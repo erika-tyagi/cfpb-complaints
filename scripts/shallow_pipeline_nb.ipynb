{
 "cells": [
  {
   "cell_type": "code",
   "execution_count": 1,
   "metadata": {},
   "outputs": [],
   "source": [
    "import numpy as np\n",
    "import pandas as pd  \n",
    "\n",
    "from sklearn.model_selection import train_test_split\n",
    "from sklearn.ensemble import RandomForestClassifier\n",
    "from sklearn.metrics import confusion_matrix\n",
    "from sklearn.metrics import accuracy_score\n",
    "from sklearn.metrics import precision_score\n",
    "from sklearn.metrics import recall_score\n",
    "\n",
    "import shallow_pipeline as pipeline \n",
    "\n",
    "pd.set_option('display.max_rows', 500)\n",
    "pd.set_option('display.max_columns', 500)"
   ]
  },
  {
   "cell_type": "code",
   "execution_count": 2,
   "metadata": {},
   "outputs": [],
   "source": [
    "COMPLAINTS_CSV = 'data/complaints.csv'\n",
    "COMPLAINT_COL = 'consumer_complaint_narrative'"
   ]
  },
  {
   "cell_type": "code",
   "execution_count": 3,
   "metadata": {
    "scrolled": true
   },
   "outputs": [
    {
     "name": "stdout",
     "output_type": "stream",
     "text": [
      "Date range: 2015-03-19 00:00:00 to 2019-12-31 00:00:00\n",
      "Number of complaints: 491146\n",
      "\n",
      "Distribution of company response: \n",
      "Closed with explanation            0.808145\n",
      "Closed with non-monetary relief    0.124195\n",
      "Closed with monetary relief        0.053729\n",
      "Closed                             0.007617\n",
      "Untimely response                  0.006314\n",
      "Name: company_response_to_consumer, dtype: float64\n",
      "\n",
      "Distribution of missing values: \n",
      "date_received                   0.000000\n",
      "product                         0.000000\n",
      "sub-product                     0.106225\n",
      "issue                           0.000000\n",
      "sub-issue                       0.260953\n",
      "consumer_complaint_narrative    0.000000\n",
      "company_public_response         0.520477\n",
      "company                         0.000000\n",
      "state                           0.003848\n",
      "zip_code                        0.224844\n",
      "tags                            0.827795\n",
      "consumer_consent_provided       0.000000\n",
      "submitted_via                   0.000000\n",
      "date_sent_to_company            0.000000\n",
      "company_response_to_consumer    0.000000\n",
      "timely_response                 0.000000\n",
      "consumer_disputed               0.665953\n",
      "complaint_id                    0.000000\n",
      "dtype: float64\n",
      "\n",
      "Number of unique values in each column: \n",
      "date_received                     1748\n",
      "product                             18\n",
      "sub-product                         75\n",
      "issue                              161\n",
      "sub-issue                          216\n",
      "consumer_complaint_narrative    463337\n",
      "company_public_response             10\n",
      "company                           4451\n",
      "state                               63\n",
      "zip_code                         10937\n",
      "tags                                 3\n",
      "consumer_consent_provided            1\n",
      "submitted_via                        1\n",
      "date_sent_to_company              1773\n",
      "company_response_to_consumer         5\n",
      "timely_response                      2\n",
      "consumer_disputed                    2\n",
      "complaint_id                    491146\n",
      "dtype: int64\n"
     ]
    }
   ],
   "source": [
    "# Load data \n",
    "cfpb = pipeline.load_data(verbose=True)\n",
    "\n",
    "# Process features  \n",
    "cat_columns = {('product', 50), \n",
    "               ('sub-product', 50), \n",
    "               ('issue', 50), \n",
    "               ('sub-issue', 50), \n",
    "               ('company', 100), \n",
    "               ('state', None), \n",
    "               ('tags', None), \n",
    "               ('consumer_disputed', None)}\n",
    "\n",
    "cfpb_X = pipeline.process_cat_features(cfpb, cat_columns)\n",
    "\n",
    "# Process label \n",
    "cfpb_y = np.where(cfpb['company_response_to_consumer'].isin(\n",
    "    ['Closed with non-monetary relief', 'Closed with monetary relief']), 1, 0)"
   ]
  },
  {
   "cell_type": "code",
   "execution_count": 4,
   "metadata": {},
   "outputs": [
    {
     "name": "stdout",
     "output_type": "stream",
     "text": [
      "Accuracy: 0.8088974854932302\n",
      "Precision: 0.4298454837706108\n",
      "Recall: 0.23795855100752053\n"
     ]
    },
    {
     "data": {
      "text/plain": [
       "array([[75313,  5498],\n",
       "       [13274,  4145]])"
      ]
     },
     "execution_count": 4,
     "metadata": {},
     "output_type": "execute_result"
    }
   ],
   "source": [
    "# Split training and testing data \n",
    "X_train, X_test, y_train, y_test = train_test_split(cfpb_X, cfpb_y, test_size=0.2, random_state=42)\n",
    "\n",
    "# Build random forest classifier \n",
    "clf = RandomForestClassifier(max_depth=2, random_state=0)\n",
    "clf.fit(X_train, y_train)\n",
    "\n",
    "# Predict \n",
    "y_pred = (clf.predict_proba(X_test)[:,1] >= 0.2).astype(bool)\n",
    "\n",
    "# Evaluate \n",
    "print('Accuracy:', accuracy_score(y_test, y_pred))\n",
    "print('Precision:', precision_score(y_test, y_pred))\n",
    "print('Recall:', recall_score(y_test, y_pred))\n",
    "confusion_matrix(y_test, y_pred)"
   ]
  },
  {
   "cell_type": "code",
   "execution_count": 5,
   "metadata": {},
   "outputs": [
    {
     "data": {
      "text/html": [
       "<div>\n",
       "<style scoped>\n",
       "    .dataframe tbody tr th:only-of-type {\n",
       "        vertical-align: middle;\n",
       "    }\n",
       "\n",
       "    .dataframe tbody tr th {\n",
       "        vertical-align: top;\n",
       "    }\n",
       "\n",
       "    .dataframe thead th {\n",
       "        text-align: right;\n",
       "    }\n",
       "</style>\n",
       "<table border=\"1\" class=\"dataframe\">\n",
       "  <thead>\n",
       "    <tr style=\"text-align: right;\">\n",
       "      <th></th>\n",
       "      <th>feature</th>\n",
       "      <th>coef</th>\n",
       "    </tr>\n",
       "  </thead>\n",
       "  <tbody>\n",
       "    <tr>\n",
       "      <th>105</th>\n",
       "      <td>company_Experian Information Solutions Inc.</td>\n",
       "      <td>0.084399</td>\n",
       "    </tr>\n",
       "    <tr>\n",
       "      <th>179</th>\n",
       "      <td>product_Mortgage</td>\n",
       "      <td>0.079204</td>\n",
       "    </tr>\n",
       "    <tr>\n",
       "      <th>172</th>\n",
       "      <td>product_Credit card</td>\n",
       "      <td>0.072371</td>\n",
       "    </tr>\n",
       "    <tr>\n",
       "      <th>292</th>\n",
       "      <td>sub-product_Checking account</td>\n",
       "      <td>0.061810</td>\n",
       "    </tr>\n",
       "    <tr>\n",
       "      <th>86</th>\n",
       "      <td>company_CITIBANK, N.A.</td>\n",
       "      <td>0.055046</td>\n",
       "    </tr>\n",
       "    <tr>\n",
       "      <th>316</th>\n",
       "      <td>sub-product_Missing</td>\n",
       "      <td>0.050729</td>\n",
       "    </tr>\n",
       "    <tr>\n",
       "      <th>136</th>\n",
       "      <td>company_Other</td>\n",
       "      <td>0.049803</td>\n",
       "    </tr>\n",
       "    <tr>\n",
       "      <th>153</th>\n",
       "      <td>company_SYNCHRONY FINANCIAL</td>\n",
       "      <td>0.048632</td>\n",
       "    </tr>\n",
       "    <tr>\n",
       "      <th>173</th>\n",
       "      <td>product_Credit card or prepaid card</td>\n",
       "      <td>0.043456</td>\n",
       "    </tr>\n",
       "    <tr>\n",
       "      <th>104</th>\n",
       "      <td>company_Empowerment Ventures, LLC</td>\n",
       "      <td>0.029388</td>\n",
       "    </tr>\n",
       "  </tbody>\n",
       "</table>\n",
       "</div>"
      ],
      "text/plain": [
       "                                         feature      coef\n",
       "105  company_Experian Information Solutions Inc.  0.084399\n",
       "179                             product_Mortgage  0.079204\n",
       "172                          product_Credit card  0.072371\n",
       "292                 sub-product_Checking account  0.061810\n",
       "86                        company_CITIBANK, N.A.  0.055046\n",
       "316                          sub-product_Missing  0.050729\n",
       "136                                company_Other  0.049803\n",
       "153                  company_SYNCHRONY FINANCIAL  0.048632\n",
       "173          product_Credit card or prepaid card  0.043456\n",
       "104            company_Empowerment Ventures, LLC  0.029388"
      ]
     },
     "execution_count": 5,
     "metadata": {},
     "output_type": "execute_result"
    }
   ],
   "source": [
    "# Get feature importance\n",
    "coefs = pd.DataFrame({\n",
    "    'feature': X_train.columns.values,\n",
    "    'coef': clf.feature_importances_.ravel()})\n",
    "coefs.sort_values(by='coef', ascending=False)[:10]"
   ]
  }
 ],
 "metadata": {
  "kernelspec": {
   "display_name": "Python 3",
   "language": "python",
   "name": "python3"
  },
  "language_info": {
   "codemirror_mode": {
    "name": "ipython",
    "version": 3
   },
   "file_extension": ".py",
   "mimetype": "text/x-python",
   "name": "python",
   "nbconvert_exporter": "python",
   "pygments_lexer": "ipython3",
   "version": "3.7.6"
  }
 },
 "nbformat": 4,
 "nbformat_minor": 4
}
