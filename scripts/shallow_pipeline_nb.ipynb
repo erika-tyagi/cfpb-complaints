{
 "cells": [
  {
   "cell_type": "code",
   "execution_count": 1,
   "metadata": {},
   "outputs": [],
   "source": [
    "import warnings\n",
    "import numpy as np\n",
    "import pandas as pd  \n",
    "\n",
    "warnings.simplefilter(action='ignore', category=FutureWarning)\n",
    "\n",
    "pd.set_option('display.max_rows', 500)\n",
    "pd.set_option('display.max_columns', 500)"
   ]
  },
  {
   "cell_type": "code",
   "execution_count": 2,
   "metadata": {},
   "outputs": [
    {
     "name": "stderr",
     "output_type": "stream",
     "text": [
      "Using TensorFlow backend.\n"
     ]
    }
   ],
   "source": [
    "%load_ext autoreload\n",
    "%autoreload 2\n",
    "\n",
    "import shallow_pipeline as pipeline "
   ]
  },
  {
   "cell_type": "code",
   "execution_count": 3,
   "metadata": {},
   "outputs": [],
   "source": [
    "COMPLAINTS_CSV = 'data/complaints.csv'\n",
    "\n",
    "RESPONSE_COL = 'company_response_to_consumer'\n",
    "NARRATIVE_COL = 'consumer_complaint_narrative'\n",
    "\n",
    "CAT_COLUMNS = [\n",
    "    ('product', 50), \n",
    "    ('sub-product', 50), \n",
    "    ('issue', 50), \n",
    "    ('sub-issue', 50), \n",
    "    ('company', 100), \n",
    "    ('state', None), \n",
    "    ('tags', None), \n",
    "    ('week', None)\n",
    "]\n",
    "\n",
    "RF_PARAMS = {\n",
    "    \"estimator__n_estimators\": [10, 20], \n",
    "    \"estimator__max_depth\": [3, 5, 10]\n",
    "}"
   ]
  },
  {
   "cell_type": "code",
   "execution_count": 4,
   "metadata": {},
   "outputs": [
    {
     "name": "stdout",
     "output_type": "stream",
     "text": [
      "Date range: 2016-01-01 00:00:00 to 2019-12-31 00:00:00\n",
      "Number of complaints: 436393\n",
      "\n",
      "Distribution of company response: \n",
      "Closed with explanation            0.813714\n",
      "Closed with non-monetary relief    0.123405\n",
      "Closed with monetary relief        0.051419\n",
      "Untimely response                  0.006313\n",
      "Closed                             0.005149\n",
      "Name: company_response_to_consumer, dtype: float64\n",
      "\n",
      "Number of unique values in each column: \n",
      "date_received                     1460\n",
      "product                             18\n",
      "sub-product                         75\n",
      "issue                              161\n",
      "sub-issue                          216\n",
      "consumer_complaint_narrative    409660\n",
      "company_public_response             10\n",
      "company                           4220\n",
      "state                               63\n",
      "zip_code                         10227\n",
      "tags                                 3\n",
      "consumer_consent_provided            1\n",
      "submitted_via                        1\n",
      "date_sent_to_company              1485\n",
      "company_response_to_consumer         5\n",
      "timely_response                      2\n",
      "consumer_disputed                    2\n",
      "complaint_id                    436393\n",
      "week                               209\n",
      "dtype: int64\n"
     ]
    }
   ],
   "source": [
    "# Load data \n",
    "cfpb = pipeline.load_data(verbose=True)"
   ]
  },
  {
   "cell_type": "code",
   "execution_count": 5,
   "metadata": {
    "scrolled": false
   },
   "outputs": [
    {
     "name": "stdout",
     "output_type": "stream",
     "text": [
      "\n",
      "Distribution of training labels: \n",
      "Closed with explanation            0.813307\n",
      "Closed with non-monetary relief    0.123536\n",
      "Closed with monetary relief        0.051576\n",
      "Untimely response                  0.006327\n",
      "Closed                             0.005253\n",
      "Name: company_response_to_consumer, dtype: float64\n",
      "\n",
      "Best score: 0.2\n",
      "Best parameters: {'estimator__max_depth': 3, 'estimator__n_estimators': 10}\n"
     ]
    }
   ],
   "source": [
    "# Process features  \n",
    "cfpb_X = pipeline.process_features(cfpb, CAT_COLUMNS, NARRATIVE_COL)\n",
    "\n",
    "# Define label \n",
    "cfpb_y = cfpb[RESPONSE_COL]\n",
    "\n",
    "# Split training and testing data \n",
    "X_train, X_test, y_train, y_test = pipeline.split_resample(cfpb_X, cfpb_y, verbose=True)\n",
    "\n",
    "# Build models \n",
    "best_RF = pipeline.hypertune_RF(X_train, y_train, RF_PARAMS, verbose=True)\n",
    "\n",
    "# Predict (highest probability) \n",
    "y_pred = best_RF.predict(X_test)\n",
    "    \n",
    "# Get prediction probabilities \n",
    "y_pred_proba = best_RF.predict_proba(X_test)"
   ]
  },
  {
   "cell_type": "code",
   "execution_count": 6,
   "metadata": {},
   "outputs": [
    {
     "name": "stdout",
     "output_type": "stream",
     "text": [
      "                                 precision    recall  f1-score   support\n",
      "\n",
      "                         Closed       0.00      0.00      0.00       413\n",
      "        Closed with explanation       0.82      1.00      0.90     71162\n",
      "    Closed with monetary relief       0.00      0.00      0.00      4433\n",
      "Closed with non-monetary relief       0.00      0.00      0.00     10725\n",
      "              Untimely response       0.00      0.00      0.00       546\n",
      "\n",
      "                       accuracy                           0.82     87279\n",
      "                      macro avg       0.16      0.20      0.18     87279\n",
      "                   weighted avg       0.66      0.82      0.73     87279\n",
      "\n"
     ]
    }
   ],
   "source": [
    "# Summarize predictions \n",
    "pipeline.summarize_probs(best_RF, y_test, y_pred)"
   ]
  },
  {
   "cell_type": "code",
   "execution_count": 7,
   "metadata": {},
   "outputs": [
    {
     "data": {
      "text/html": [
       "<div>\n",
       "<style scoped>\n",
       "    .dataframe tbody tr th:only-of-type {\n",
       "        vertical-align: middle;\n",
       "    }\n",
       "\n",
       "    .dataframe tbody tr th {\n",
       "        vertical-align: top;\n",
       "    }\n",
       "\n",
       "    .dataframe thead th {\n",
       "        text-align: right;\n",
       "    }\n",
       "</style>\n",
       "<table border=\"1\" class=\"dataframe\">\n",
       "  <thead>\n",
       "    <tr style=\"text-align: right;\">\n",
       "      <th></th>\n",
       "      <th>Closed</th>\n",
       "      <th>Closed with explanation</th>\n",
       "      <th>Closed with monetary relief</th>\n",
       "      <th>Closed with non-monetary relief</th>\n",
       "      <th>Untimely response</th>\n",
       "    </tr>\n",
       "    <tr>\n",
       "      <th>y_test</th>\n",
       "      <th></th>\n",
       "      <th></th>\n",
       "      <th></th>\n",
       "      <th></th>\n",
       "      <th></th>\n",
       "    </tr>\n",
       "  </thead>\n",
       "  <tbody>\n",
       "    <tr>\n",
       "      <th>Closed</th>\n",
       "      <td>1.857</td>\n",
       "      <td>81.661</td>\n",
       "      <td>5.608</td>\n",
       "      <td>9.914</td>\n",
       "      <td>0.959</td>\n",
       "    </tr>\n",
       "    <tr>\n",
       "      <th>Closed with explanation</th>\n",
       "      <td>0.529</td>\n",
       "      <td>81.733</td>\n",
       "      <td>5.054</td>\n",
       "      <td>12.028</td>\n",
       "      <td>0.656</td>\n",
       "    </tr>\n",
       "    <tr>\n",
       "      <th>Closed with monetary relief</th>\n",
       "      <td>0.442</td>\n",
       "      <td>79.214</td>\n",
       "      <td>9.443</td>\n",
       "      <td>10.347</td>\n",
       "      <td>0.554</td>\n",
       "    </tr>\n",
       "    <tr>\n",
       "      <th>Closed with non-monetary relief</th>\n",
       "      <td>0.479</td>\n",
       "      <td>79.407</td>\n",
       "      <td>4.130</td>\n",
       "      <td>15.474</td>\n",
       "      <td>0.511</td>\n",
       "    </tr>\n",
       "    <tr>\n",
       "      <th>Untimely response</th>\n",
       "      <td>0.847</td>\n",
       "      <td>82.539</td>\n",
       "      <td>4.820</td>\n",
       "      <td>10.400</td>\n",
       "      <td>1.394</td>\n",
       "    </tr>\n",
       "  </tbody>\n",
       "</table>\n",
       "</div>"
      ],
      "text/plain": [
       "                                 Closed  Closed with explanation  \\\n",
       "y_test                                                             \n",
       "Closed                            1.857                   81.661   \n",
       "Closed with explanation           0.529                   81.733   \n",
       "Closed with monetary relief       0.442                   79.214   \n",
       "Closed with non-monetary relief   0.479                   79.407   \n",
       "Untimely response                 0.847                   82.539   \n",
       "\n",
       "                                 Closed with monetary relief  \\\n",
       "y_test                                                         \n",
       "Closed                                                 5.608   \n",
       "Closed with explanation                                5.054   \n",
       "Closed with monetary relief                            9.443   \n",
       "Closed with non-monetary relief                        4.130   \n",
       "Untimely response                                      4.820   \n",
       "\n",
       "                                 Closed with non-monetary relief  \\\n",
       "y_test                                                             \n",
       "Closed                                                     9.914   \n",
       "Closed with explanation                                   12.028   \n",
       "Closed with monetary relief                               10.347   \n",
       "Closed with non-monetary relief                           15.474   \n",
       "Untimely response                                         10.400   \n",
       "\n",
       "                                 Untimely response  \n",
       "y_test                                              \n",
       "Closed                                       0.959  \n",
       "Closed with explanation                      0.656  \n",
       "Closed with monetary relief                  0.554  \n",
       "Closed with non-monetary relief              0.511  \n",
       "Untimely response                            1.394  "
      ]
     },
     "execution_count": 7,
     "metadata": {},
     "output_type": "execute_result"
    }
   ],
   "source": [
    "# Summarize probabilities \n",
    "pipeline.summarize_probas(best_RF, y_test, y_pred_proba)"
   ]
  },
  {
   "cell_type": "code",
   "execution_count": 8,
   "metadata": {},
   "outputs": [
    {
     "name": "stdout",
     "output_type": "stream",
     "text": [
      "\n",
      "Class: Closed\n",
      "                                         feature  importance\n",
      "132                   sub-issue_Debt is not mine    0.152492\n",
      "208                                  company_ERC    0.147510\n",
      "82   issue_Cont'd attempts collect debt not owed    0.115977\n",
      "88         issue_Disclosure verification of debt    0.081964\n",
      "239                                company_Other    0.076971\n",
      "\n",
      "Class: Closed with explanation\n",
      "                                         feature  importance\n",
      "209  company_Experian Information Solutions Inc.    0.226000\n",
      "20                  sub-product_Checking account    0.119924\n",
      "4            product_Credit card or prepaid card    0.106111\n",
      "90                        issue_Fees or interest    0.047973\n",
      "23        sub-product_Conventional home mortgage    0.042416\n",
      "\n",
      "Class: Closed with monetary relief\n",
      "                                               feature  importance\n",
      "4                  product_Credit card or prepaid card    0.184058\n",
      "20                        sub-product_Checking account    0.145522\n",
      "6    product_Credit reporting, credit repair servic...    0.138741\n",
      "90                              issue_Fees or interest    0.098580\n",
      "108  issue_Problem with a purchase shown on your st...    0.058454\n",
      "\n",
      "Class: Closed with non-monetary relief\n",
      "                                               feature  importance\n",
      "209        company_Experian Information Solutions Inc.    0.251398\n",
      "6    product_Credit reporting, credit repair servic...    0.131173\n",
      "153           sub-issue_Personal information incorrect    0.077343\n",
      "96          issue_Incorrect information on your report    0.076605\n",
      "239                                      company_Other    0.068682\n",
      "\n",
      "Class: Untimely response\n",
      "                                               feature  importance\n",
      "167  sub-issue_Threatened to sue you for very old debt    0.198806\n",
      "239                                      company_Other    0.185505\n",
      "209        company_Experian Information Solutions Inc.    0.090086\n",
      "37                           sub-product_I do not know    0.070667\n",
      "117  issue_Took or threatened to take negative or l...    0.066410\n"
     ]
    }
   ],
   "source": [
    "# Get feature importance \n",
    "feature_importance = pipeline.feature_importance(best_RF, X_train, verbose=True)"
   ]
  }
 ],
 "metadata": {
  "kernelspec": {
   "display_name": "Python 3",
   "language": "python",
   "name": "python3"
  },
  "language_info": {
   "codemirror_mode": {
    "name": "ipython",
    "version": 3
   },
   "file_extension": ".py",
   "mimetype": "text/x-python",
   "name": "python",
   "nbconvert_exporter": "python",
   "pygments_lexer": "ipython3",
   "version": "3.7.6"
  }
 },
 "nbformat": 4,
 "nbformat_minor": 4
}
