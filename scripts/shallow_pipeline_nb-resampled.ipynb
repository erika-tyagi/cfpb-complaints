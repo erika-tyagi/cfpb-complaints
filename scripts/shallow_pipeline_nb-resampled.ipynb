{
 "cells": [
  {
   "cell_type": "code",
   "execution_count": 1,
   "metadata": {},
   "outputs": [],
   "source": [
    "import warnings\n",
    "import numpy as np\n",
    "import pandas as pd  \n",
    "import datetime\n",
    "\n",
    "warnings.simplefilter(action='ignore', category=FutureWarning)\n",
    "\n",
    "pd.set_option('display.max_rows', 500)\n",
    "pd.set_option('display.max_columns', 500)"
   ]
  },
  {
   "cell_type": "code",
   "execution_count": 2,
   "metadata": {},
   "outputs": [
    {
     "name": "stderr",
     "output_type": "stream",
     "text": [
      "Using TensorFlow backend.\n"
     ]
    }
   ],
   "source": [
    "%load_ext autoreload\n",
    "%autoreload 2\n",
    "\n",
    "import shallow_pipeline as pipeline "
   ]
  },
  {
   "cell_type": "code",
   "execution_count": 3,
   "metadata": {},
   "outputs": [],
   "source": [
    "COMPLAINTS_CSV = 'data/complaints.csv'\n",
    "\n",
    "RESPONSE_COL = 'company_response_to_consumer'\n",
    "NARRATIVE_COL = 'consumer_complaint_narrative'\n",
    "\n",
    "CAT_COLUMNS = [\n",
    "    ('product', 50), \n",
    "    ('sub-product', 50), \n",
    "    ('issue', 50), \n",
    "    ('sub-issue', 50), \n",
    "    ('company', 100), \n",
    "    ('state', None), \n",
    "    ('tags', None), \n",
    "    ('week', None)\n",
    "]\n",
    "\n",
    "RF_PARAMS = {\n",
    "    \"estimator__n_estimators\": [10, 20], \n",
    "    \"estimator__max_depth\": [3, 5, 10]\n",
    "}"
   ]
  },
  {
   "cell_type": "code",
   "execution_count": 4,
   "metadata": {},
   "outputs": [
    {
     "name": "stdout",
     "output_type": "stream",
     "text": [
      "Date range: 2016-01-01 00:00:00 to 2019-12-31 00:00:00\n",
      "Number of complaints: 436393\n",
      "\n",
      "Distribution of company response: \n",
      "Closed with explanation            0.813714\n",
      "Closed with non-monetary relief    0.123405\n",
      "Closed with monetary relief        0.051419\n",
      "Untimely response                  0.006313\n",
      "Closed                             0.005149\n",
      "Name: company_response_to_consumer, dtype: float64\n",
      "\n",
      "Number of unique values in each column: \n",
      "date_received                     1460\n",
      "product                             18\n",
      "sub-product                         75\n",
      "issue                              161\n",
      "sub-issue                          216\n",
      "consumer_complaint_narrative    409660\n",
      "company_public_response             10\n",
      "company                           4220\n",
      "state                               63\n",
      "zip_code                         10227\n",
      "tags                                 3\n",
      "consumer_consent_provided            1\n",
      "submitted_via                        1\n",
      "date_sent_to_company              1485\n",
      "company_response_to_consumer         5\n",
      "timely_response                      2\n",
      "consumer_disputed                    2\n",
      "complaint_id                    436393\n",
      "week                               209\n",
      "dtype: int64\n"
     ]
    }
   ],
   "source": [
    "# Load data \n",
    "cfpb = pipeline.load_data(verbose=True)"
   ]
  },
  {
   "cell_type": "code",
   "execution_count": 5,
   "metadata": {
    "scrolled": false
   },
   "outputs": [
    {
     "name": "stdout",
     "output_type": "stream",
     "text": [
      "\n",
      "Distribution of training labels: \n",
      "Closed with monetary relief        0.2\n",
      "Closed with non-monetary relief    0.2\n",
      "Closed                             0.2\n",
      "Untimely response                  0.2\n",
      "Closed with explanation            0.2\n",
      "Name: company_response_to_consumer, dtype: float64\n",
      "\n",
      "Best score: 0.6471935379828355\n",
      "Best parameters: {'estimator__max_depth': 10, 'estimator__n_estimators': 10}\n",
      "Time Elapsed: 2:10:25.166102\n"
     ]
    }
   ],
   "source": [
    "# Start timer \n",
    "start = datetime.datetime.now()\n",
    "\n",
    "# Process features  \n",
    "cfpb_X = pipeline.process_features(cfpb, CAT_COLUMNS, NARRATIVE_COL)\n",
    "\n",
    "# Define label \n",
    "cfpb_y = cfpb[RESPONSE_COL]\n",
    "\n",
    "# Split training and testing data \n",
    "X_train, X_test, y_train, y_test = pipeline.split_resample(cfpb_X, cfpb_y, resample=True, verbose=True)\n",
    "\n",
    "# Build models \n",
    "best_RF = pipeline.hypertune_RF(X_train, y_train, RF_PARAMS, verbose=True)\n",
    "\n",
    "# Predict (highest probability) \n",
    "y_pred = best_RF.predict(X_test)\n",
    "    \n",
    "# Get prediction probabilities \n",
    "y_pred_proba = best_RF.predict_proba(X_test)\n",
    "\n",
    "# End timer\n",
    "stop = datetime.datetime.now()\n",
    "print(\"Time Elapsed:\", stop - start)"
   ]
  },
  {
   "cell_type": "code",
   "execution_count": 6,
   "metadata": {},
   "outputs": [
    {
     "name": "stdout",
     "output_type": "stream",
     "text": [
      "                                 precision    recall  f1-score   support\n",
      "\n",
      "                         Closed       0.04      0.47      0.08       413\n",
      "        Closed with explanation       0.89      0.58      0.70     71162\n",
      "    Closed with monetary relief       0.21      0.75      0.33      4433\n",
      "Closed with non-monetary relief       0.30      0.46      0.36     10725\n",
      "              Untimely response       0.05      0.38      0.09       546\n",
      "\n",
      "                       accuracy                           0.57     87279\n",
      "                      macro avg       0.30      0.53      0.31     87279\n",
      "                   weighted avg       0.78      0.57      0.64     87279\n",
      "\n"
     ]
    }
   ],
   "source": [
    "# Summarize predictions \n",
    "pipeline.summarize_probs(best_RF, y_test, y_pred)"
   ]
  },
  {
   "cell_type": "code",
   "execution_count": 7,
   "metadata": {},
   "outputs": [
    {
     "data": {
      "text/html": [
       "<div>\n",
       "<style scoped>\n",
       "    .dataframe tbody tr th:only-of-type {\n",
       "        vertical-align: middle;\n",
       "    }\n",
       "\n",
       "    .dataframe tbody tr th {\n",
       "        vertical-align: top;\n",
       "    }\n",
       "\n",
       "    .dataframe thead th {\n",
       "        text-align: right;\n",
       "    }\n",
       "</style>\n",
       "<table border=\"1\" class=\"dataframe\">\n",
       "  <thead>\n",
       "    <tr style=\"text-align: right;\">\n",
       "      <th></th>\n",
       "      <th>Closed</th>\n",
       "      <th>Closed with explanation</th>\n",
       "      <th>Closed with monetary relief</th>\n",
       "      <th>Closed with non-monetary relief</th>\n",
       "      <th>Untimely response</th>\n",
       "    </tr>\n",
       "    <tr>\n",
       "      <th>y_test</th>\n",
       "      <th></th>\n",
       "      <th></th>\n",
       "      <th></th>\n",
       "      <th></th>\n",
       "      <th></th>\n",
       "    </tr>\n",
       "  </thead>\n",
       "  <tbody>\n",
       "    <tr>\n",
       "      <th>Closed</th>\n",
       "      <td>30.963</td>\n",
       "      <td>23.863</td>\n",
       "      <td>14.133</td>\n",
       "      <td>11.222</td>\n",
       "      <td>19.818</td>\n",
       "    </tr>\n",
       "    <tr>\n",
       "      <th>Closed with explanation</th>\n",
       "      <td>12.859</td>\n",
       "      <td>36.994</td>\n",
       "      <td>15.927</td>\n",
       "      <td>22.185</td>\n",
       "      <td>12.035</td>\n",
       "    </tr>\n",
       "    <tr>\n",
       "      <th>Closed with monetary relief</th>\n",
       "      <td>12.973</td>\n",
       "      <td>25.699</td>\n",
       "      <td>38.582</td>\n",
       "      <td>13.130</td>\n",
       "      <td>9.615</td>\n",
       "    </tr>\n",
       "    <tr>\n",
       "      <th>Closed with non-monetary relief</th>\n",
       "      <td>10.200</td>\n",
       "      <td>33.449</td>\n",
       "      <td>12.468</td>\n",
       "      <td>34.975</td>\n",
       "      <td>8.908</td>\n",
       "    </tr>\n",
       "    <tr>\n",
       "      <th>Untimely response</th>\n",
       "      <td>18.766</td>\n",
       "      <td>30.071</td>\n",
       "      <td>9.173</td>\n",
       "      <td>13.820</td>\n",
       "      <td>28.170</td>\n",
       "    </tr>\n",
       "  </tbody>\n",
       "</table>\n",
       "</div>"
      ],
      "text/plain": [
       "                                 Closed  Closed with explanation  \\\n",
       "y_test                                                             \n",
       "Closed                           30.963                   23.863   \n",
       "Closed with explanation          12.859                   36.994   \n",
       "Closed with monetary relief      12.973                   25.699   \n",
       "Closed with non-monetary relief  10.200                   33.449   \n",
       "Untimely response                18.766                   30.071   \n",
       "\n",
       "                                 Closed with monetary relief  \\\n",
       "y_test                                                         \n",
       "Closed                                                14.133   \n",
       "Closed with explanation                               15.927   \n",
       "Closed with monetary relief                           38.582   \n",
       "Closed with non-monetary relief                       12.468   \n",
       "Untimely response                                      9.173   \n",
       "\n",
       "                                 Closed with non-monetary relief  \\\n",
       "y_test                                                             \n",
       "Closed                                                    11.222   \n",
       "Closed with explanation                                   22.185   \n",
       "Closed with monetary relief                               13.130   \n",
       "Closed with non-monetary relief                           34.975   \n",
       "Untimely response                                         13.820   \n",
       "\n",
       "                                 Untimely response  \n",
       "y_test                                              \n",
       "Closed                                      19.818  \n",
       "Closed with explanation                     12.035  \n",
       "Closed with monetary relief                  9.615  \n",
       "Closed with non-monetary relief              8.908  \n",
       "Untimely response                           28.170  "
      ]
     },
     "execution_count": 7,
     "metadata": {},
     "output_type": "execute_result"
    }
   ],
   "source": [
    "# Summarize probabilities \n",
    "pipeline.summarize_probas(best_RF, y_test, y_pred_proba)"
   ]
  },
  {
   "cell_type": "code",
   "execution_count": 8,
   "metadata": {},
   "outputs": [
    {
     "name": "stdout",
     "output_type": "stream",
     "text": [
      "\n",
      "Class: Closed\n",
      "                                              feature  importance\n",
      "6   product_Credit reporting, credit repair servic...    0.150396\n",
      "27                       sub-product_Credit reporting    0.071081\n",
      "50  sub-product_Other (i.e. phone, health club, etc.)    0.071010\n",
      "82        issue_Cont'd attempts collect debt not owed    0.069646\n",
      "96         issue_Incorrect information on your report    0.057184\n",
      "\n",
      "Class: Closed with explanation\n",
      "                                               feature  importance\n",
      "10                                    product_Mortgage    0.063576\n",
      "15                                product_Student loan    0.056444\n",
      "267     company_TRANSUNION INTERMEDIATE HOLDINGS, INC.    0.050048\n",
      "328                                           state_TX    0.047536\n",
      "6    product_Credit reporting, credit repair servic...    0.045034\n",
      "\n",
      "Class: Closed with monetary relief\n",
      "                                               feature  importance\n",
      "239                                      company_Other    0.157122\n",
      "7                              product_Debt collection    0.107744\n",
      "6    product_Credit reporting, credit repair servic...    0.096807\n",
      "20                        sub-product_Checking account    0.077958\n",
      "4                  product_Credit card or prepaid card    0.072271\n",
      "\n",
      "Class: Closed with non-monetary relief\n",
      "                                               feature  importance\n",
      "6    product_Credit reporting, credit repair servic...    0.267677\n",
      "209        company_Experian Information Solutions Inc.    0.155140\n",
      "142      sub-issue_Information belongs to someone else    0.099988\n",
      "27                        sub-product_Credit reporting    0.081485\n",
      "239                                      company_Other    0.075684\n",
      "\n",
      "Class: Untimely response\n",
      "                                               feature  importance\n",
      "239                                      company_Other    0.197623\n",
      "6    product_Credit reporting, credit repair servic...    0.122063\n",
      "7                              product_Debt collection    0.060168\n",
      "4                  product_Credit card or prepaid card    0.050708\n",
      "10                                    product_Mortgage    0.046553\n"
     ]
    }
   ],
   "source": [
    "# Get feature importance \n",
    "feature_importance = pipeline.feature_importance(best_RF, X_train, verbose=True)"
   ]
  }
 ],
 "metadata": {
  "kernelspec": {
   "display_name": "Python 3",
   "language": "python",
   "name": "python3"
  },
  "language_info": {
   "codemirror_mode": {
    "name": "ipython",
    "version": 3
   },
   "file_extension": ".py",
   "mimetype": "text/x-python",
   "name": "python",
   "nbconvert_exporter": "python",
   "pygments_lexer": "ipython3",
   "version": "3.7.6"
  }
 },
 "nbformat": 4,
 "nbformat_minor": 4
}
